{
 "metadata": {
  "name": "",
  "signature": "sha256:97875db166b3c1c9899373e5287a89186af7f962a9ea44c93aedb87e70852ddb"
 },
 "nbformat": 3,
 "nbformat_minor": 0,
 "worksheets": [
  {
   "cells": [
    {
     "cell_type": "code",
     "collapsed": false,
     "input": [
      "%pylab inline\n",
      "from __future__ import print_function # make sure print behaves the same in 2.7 and 3.x\n",
      "from Scientific.IO.NetCDF import *\n",
      "from wave import open\n",
      "import numpy as np\n",
      "\n",
      "import pyaudio"
     ],
     "language": "python",
     "metadata": {},
     "outputs": [
      {
       "output_type": "stream",
       "stream": "stdout",
       "text": [
        "Populating the interactive namespace from numpy and matplotlib\n"
       ]
      },
      {
       "output_type": "stream",
       "stream": "stderr",
       "text": [
        "WARNING: pylab import has clobbered these variables: ['f']\n",
        "`%pylab --no-import-all` prevents importing * from pylab and numpy\n"
       ]
      }
     ],
     "prompt_number": 341
    },
    {
     "cell_type": "code",
     "collapsed": false,
     "input": [
      "f = NetCDFFile('/home/pradeep/Q4/SpatialAudio/HW/4/subject_020.sofa', 'r')"
     ],
     "language": "python",
     "metadata": {},
     "outputs": [],
     "prompt_number": 342
    },
    {
     "cell_type": "code",
     "collapsed": false,
     "input": [
      "frontleftfile =  open('/home/pradeep/Q4/SpatialAudio/HW/4/frontleft.wav', 'r');\n",
      "frontLeft = frontleftfile.readframes(-1);\n",
      "frontLeft = np.fromstring(frontLeft, 'Int16');\n",
      "plot(frontLeft)"
     ],
     "language": "python",
     "metadata": {},
     "outputs": [
      {
       "metadata": {},
       "output_type": "pyout",
       "prompt_number": 343,
       "text": [
        "[<matplotlib.lines.Line2D at 0x7f781d19eed0>]"
       ]
      },
      {
       "metadata": {},
       "output_type": "display_data",
       "png": "[encoded data removed]",
       "text": [
        "<matplotlib.figure.Figure at 0x7f781d151ad0>"
       ]
      }
     ],
     "prompt_number": 343
    },
    {
     "cell_type": "code",
     "collapsed": false,
     "input": [
      "frontRightFile =  open('/home/pradeep/Q4/SpatialAudio/HW/4/frontright.wav', 'r');\n",
      "frontRight = frontRightFile.readframes(-1);\n",
      "frontRight = np.fromstring(frontRight, 'Int16');\n",
      "plot(frontRight);\n",
      "\n",
      "frontcenterfile =  open('/home/pradeep/Q4/SpatialAudio/HW/4/frontcenter.wav', 'r');\n",
      "frontCenter = frontcenterfile.readframes(-1);\n",
      "frontCenter = np.fromstring(frontCenter, 'Int16');\n",
      "plot(frontCenter)\n",
      "\n",
      "subfile =  open('/home/pradeep/Q4/SpatialAudio/HW/4/sub.wav', 'r');\n",
      "sub = subfile.readframes(-1);\n",
      "sub = np.fromstring(sub, 'Int16');\n",
      "plot(sub)\n",
      "\n",
      "leftsurrfile =  open('/home/pradeep/Q4/SpatialAudio/HW/4/leftsurr.wav', 'r');\n",
      "leftSurr = leftsurrfile.readframes(-1);\n",
      "leftSurr = np.fromstring(leftSurr, 'Int16');\n",
      "plot(leftSurr)\n",
      "\n",
      "rightsurrfile =  open('/home/pradeep/Q4/SpatialAudio/HW/4/rightsurr.wav', 'r');\n",
      "rightSurr = rightsurrfile.readframes(-1);\n",
      "rightSurr = np.fromstring(rightSurr, 'Int16');\n",
      "plot(rightSurr)"
     ],
     "language": "python",
     "metadata": {},
     "outputs": [
      {
       "metadata": {},
       "output_type": "pyout",
       "prompt_number": 344,
       "text": [
        "[<matplotlib.lines.Line2D at 0x7f781d073a10>]"
       ]
      },
      {
       "metadata": {},
       "output_type": "display_data",
       "png": "[encoded data removed]",
       "text": [
        "<matplotlib.figure.Figure at 0x7f781d4d5990>"
       ]
      }
     ],
     "prompt_number": 344
    },
    {
     "cell_type": "code",
     "collapsed": false,
     "input": [
      "print(np.shape(f.variables['Data.IR']), np.shape(f.variables['SourcePosition']))"
     ],
     "language": "python",
     "metadata": {},
     "outputs": [
      {
       "output_type": "stream",
       "stream": "stdout",
       "text": [
        "(1250, 2, 200) (1250, 3)\n"
       ]
      }
     ],
     "prompt_number": 345
    },
    {
     "cell_type": "code",
     "collapsed": false,
     "input": [
      "f.variables['Data.Delay'][0]"
     ],
     "language": "python",
     "metadata": {},
     "outputs": [
      {
       "metadata": {},
       "output_type": "pyout",
       "prompt_number": 346,
       "text": [
        "array([ 0.,  0.])"
       ]
      }
     ],
     "prompt_number": 346
    },
    {
     "cell_type": "code",
     "collapsed": false,
     "input": [
      "#for spos in f.variables['SourcePosition'][:]:\n",
      "#    if (round(spos[1])==0):\n",
      "#        print('Azi:',spos[0],'Ele:',spos[1]);\n",
      "\n",
      "p = pyaudio.PyAudio() ;"
     ],
     "language": "python",
     "metadata": {},
     "outputs": [],
     "prompt_number": 347
    },
    {
     "cell_type": "code",
     "collapsed": false,
     "input": [
      "np.shape(f.variables['SourcePosition']);\n",
      "id_FL = -1;\n",
      "id_FR = -1;\n",
      "id_FC = -1;\n",
      "id_SL = -1;\n",
      "id_SR = -1;\n",
      "\n",
      "\n",
      "index = -1;\n",
      "for spos in f.variables['SourcePosition'][:]:\n",
      "    index += 1;\n",
      "    if (round(spos[1])==0 and spos[0]==0):\n",
      "       id_FC = index;\n",
      "    elif (round(spos[1])==0 and spos[0]==30):\n",
      "        id_FL = index;\n",
      "    elif (round(spos[1])==0 and spos[0]==115): \n",
      "        id_SL = index;\n",
      "    elif (round(spos[1])==0 and spos[0]==(360-115)): \n",
      "        id_SR = index;\n",
      "    elif (round(spos[1])==0 and spos[0]==(360-30)): \n",
      "        id_FR = index;\n",
      "        \n",
      "\n",
      "print(id_FL, id_FR, id_FC, id_SL, id_SR)"
     ],
     "language": "python",
     "metadata": {},
     "outputs": [
      {
       "output_type": "stream",
       "stream": "stdout",
       "text": [
        "308 908 608 90 1190\n"
       ]
      }
     ],
     "prompt_number": 348
    },
    {
     "cell_type": "code",
     "collapsed": false,
     "input": [
      "l1Output = np.convolve(frontLeft, f.variables['Data.IR'][id_FL][0][:], 'same');\n",
      "l2Output = np.convolve(frontRight, f.variables['Data.IR'][id_FR][0][:], 'same');\n",
      "l3Output = np.convolve(leftSurr, f.variables['Data.IR'][id_SL][0][:], 'same');\n",
      "l4Output = np.convolve(rightSurr, f.variables['Data.IR'][id_SR][0][:], 'same');\n",
      "l5Output = np.convolve(frontCenter, f.variables['Data.IR'][id_FC][0][:], 'same');\n",
      "\n",
      "r1Output = np.convolve(frontLeft, f.variables['Data.IR'][id_FL][1][:], 'same');\n",
      "r2Output = np.convolve(frontRight, f.variables['Data.IR'][id_FR][1][:], 'same');\n",
      "r3Output = np.convolve(leftSurr, f.variables['Data.IR'][id_SL][1][:], 'same');\n",
      "r4Output = np.convolve(rightSurr, f.variables['Data.IR'][id_SR][1][:], 'same');\n",
      "r5Output = np.convolve(frontCenter, f.variables['Data.IR'][id_FC][1][:], 'same');"
     ],
     "language": "python",
     "metadata": {},
     "outputs": [],
     "prompt_number": 349
    },
    {
     "cell_type": "code",
     "collapsed": false,
     "input": [
      "loutput = l1Output + l2Output + l3Output + l4Output + l5Output + sub/(np.sqrt(2)) ;\n",
      "routput = r1Output + r2Output + r3Output + r4Output + r5Output + sub/(np.sqrt(2)) ;"
     ],
     "language": "python",
     "metadata": {},
     "outputs": [],
     "prompt_number": 350
    },
    {
     "cell_type": "code",
     "collapsed": false,
     "input": [
      "figure;\n",
      "plot(loutput);\n",
      "plot(routput);"
     ],
     "language": "python",
     "metadata": {},
     "outputs": [
      {
       "metadata": {},
       "output_type": "display_data",
       "png": "[encoded data removed]",
       "text": [
        "<matplotlib.figure.Figure at 0x7f781d039c50>"
       ]
      }
     ],
     "prompt_number": 351
    },
    {
     "cell_type": "code",
     "collapsed": false,
     "input": [
      "finalLOutput = loutput.astype('int16');\n",
      "finalROutput = routput.astype('int16');"
     ],
     "language": "python",
     "metadata": {},
     "outputs": [],
     "prompt_number": 352
    },
    {
     "cell_type": "code",
     "collapsed": false,
     "input": [
      "interleavedOutput = np.zeros([2 * finalLOutput.shape[0]]);\n",
      "for i in range(finalLOutput.shape[0]):\n",
      "    interleavedOutput[2*i] = finalLOutput[i];\n",
      "    interleavedOutput[2*i+1] = finalROutput[i];\n",
      "    \n",
      "interleavedOutput = interleavedOutput.astype('int16');"
     ],
     "language": "python",
     "metadata": {},
     "outputs": [],
     "prompt_number": 353
    },
    {
     "cell_type": "code",
     "collapsed": false,
     "input": [
      "wav_file = open('/home/pradeep/Q4/SpatialAudio/HW/4/output.wav', 'w');\n",
      "nchannels = 2\n",
      "sampwidth = 2\n",
      "framerate = 48000\n",
      "nframes = 1250\n",
      "comptype = \"NONE\"\n",
      "compname = \"not compressed\"\n",
      "\n",
      "wav_file.setparams((nchannels, sampwidth, framerate, nframes,comptype, compname));\n",
      "wav_file.writeframes(interleavedOutput);\n",
      "wav_file.close;"
     ],
     "language": "python",
     "metadata": {},
     "outputs": [],
     "prompt_number": 354
    }
   ],
   "metadata": {}
  }
 ]
}